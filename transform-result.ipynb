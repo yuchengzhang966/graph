import pandas as pd
import numpy as np

load_json = pd.read_json('emode.json')